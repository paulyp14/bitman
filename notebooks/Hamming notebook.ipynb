{
 "cells": [
  {
   "cell_type": "code",
   "execution_count": 291,
   "metadata": {},
   "outputs": [],
   "source": [
    "from itertools import combinations\n",
    "from functools import reduce\n",
    "import numpy as np\n",
    "\n",
    "import IPython.display as dp"
   ]
  },
  {
   "cell_type": "code",
   "execution_count": 409,
   "metadata": {},
   "outputs": [],
   "source": [
    "def render_html(text):\n",
    "    return dp.HTML(\"<style>.nowrap{white-space:pre;font-family:monospace}</style><span class='nowrap' >\" + text + \"</span>\")\n",
    "\n",
    "class HammingException(Exception):\n",
    "    messages = {\n",
    "        1: 'Not all codes of the same length',\n",
    "        2: 'Invalid number of bits requested',\n",
    "        3: 'Can\\'t encode an empty bitstring',\n",
    "    }\n",
    "    def __init__(self, selector):\n",
    "        Exception.__init__(self, HammingException.messages[selector])\n",
    "    \n",
    "def combos(iterable):\n",
    "    if not len(set([len(i) for i in iterable])) == 1:\n",
    "        raise HammingException(1) \n",
    "    return list(combinations(iterable, 2))\n",
    "\n",
    "class HammingDistance():\n",
    "    def __init__(self, iterable):\n",
    "        self.codes = iterable\n",
    "        self._combos = combos(iterable)\n",
    "        self.min_distance = self.get_min_distance()\n",
    "        \n",
    "    def get_min_distance(self, pairs=None):\n",
    "        c = self._combos if pairs is None else combos(pairs)\n",
    "        self.visualize_distances = [HammingDistance.compare_pair((h1, h2)) for h1, h2 in c]\n",
    "        self._distances = [c[0] for c in self.visualize_distances]\n",
    "        self.Dmin = np.nanmin([(c if c != 0 else np.nan) for c in self._distances]).astype(int)\n",
    "        \n",
    "    def compare_pair(pair):\n",
    "        l0, l1, l2 = [], [], []\n",
    "        for i, j in zip(pair[0], pair[1]):\n",
    "            l0.append(1 if i != j else 0)\n",
    "            l1.append(i)\n",
    "            l2.append(j)\n",
    "        return sum(l0), l1, l2\n",
    "\n",
    "class HammingEncoder():\n",
    "    def __init__(self, data=None, data_bits=None):\n",
    "        \n",
    "        if data is not None:\n",
    "            data_bits = len(data)\n",
    "        elif data_bits is None:\n",
    "            raise HammingException(3)\n",
    "            \n",
    "        self.data_bits = data_bits\n",
    "        self.redundant_bits = HammingEncoder.calculate_redundant_bits(self.data_bits)\n",
    "        self._redundant_positions = [2**i for i in range(self.redundant_bits)]\n",
    "        self.encoding = {\n",
    "            i + 1: HammingBit(\n",
    "                              i + 1,\n",
    "                              ' ',\n",
    "                              (True if i + 1 in self._redundant_positions else False)\n",
    "                             )\n",
    "            for i in range(self.data_bits + self.redundant_bits)\n",
    "        }\n",
    "        if data is not None:\n",
    "            self.fill(data)\n",
    "        \n",
    "    def fill(self, data):\n",
    "        data_range = [i for i in self.encoding.keys() if self.encoding[i].is_redundant == False]\n",
    "        for i, j in enumerate(data_range):\n",
    "            self.encoding[j].value = data[i]\n",
    "        \n",
    "    def render_string(self, html=False):\n",
    "        breaker = '\\n' if not html else '<br>'\n",
    "        max_length = max([len(str(i)) for i in self.encoding.keys()])\n",
    "        chars = [HammingEncoder.rendered_char(bit, max_length) for bit in list(self.encoding.values())[::-1]]\n",
    "        return breaker.join([\"\".join([c[i] for c in chars]) for i in range(5)])\n",
    "    \n",
    "    def get_as_html(self):\n",
    "        return render_html(self.render_string(html=True))\n",
    "    \n",
    "    def __print__(self):\n",
    "        print(self.render_string())\n",
    "        \n",
    "    def rendered_char(bit, max_length=3):\n",
    "        \n",
    "        val_dif = max_length - len(str(bit.value))\n",
    "        pdif = max_length - len(str(bit.place))\n",
    "        \n",
    "        if bit.is_redundant:\n",
    "            return [\n",
    "                f'-{\"-\" * max_length}-',\n",
    "                f'|{\" \" * val_dif}{bit.value}|',\n",
    "                f'|{\"-\" * max_length}|',\n",
    "                f'|{\" \" * pdif}{bit.place}|',\n",
    "                f'-{\"-\" * max_length}-',\n",
    "            ]\n",
    "        else:\n",
    "            return [\n",
    "                f' {\" \" * max_length} ',\n",
    "                f' {\" \" * val_dif}{bit.value} ',\n",
    "                f' {\"-\" * max_length} ',\n",
    "                f' {\" \" * pdif}{bit.place} ',\n",
    "                f' {\" \" * max_length} ',\n",
    "            ]\n",
    "        \n",
    "    def calculate_redundant_bits(data_bits):\n",
    "        m = data_bits + 1\n",
    "        for r in range(1000):\n",
    "            if m + r <= 2**r:\n",
    "                return r\n",
    "        raise HammingException(2)\n",
    "    \n",
    "\n",
    "\n",
    "class HammingBit():\n",
    "    def __init__(self, place, value, is_redundant):\n",
    "        self.place = place\n",
    "        self.value = value\n",
    "        self.is_redundant = is_redundant\n",
    "    def __str__(self):\n",
    "        return f'HammingBit(value = {self.value}, is_redundant = {self.is_redundant})'\n",
    "        "
   ]
  },
  {
   "cell_type": "code",
   "execution_count": 410,
   "metadata": {},
   "outputs": [],
   "source": [
    "codes = ['100001101111', '100000001111', '100000001110', '100001101111']"
   ]
  },
  {
   "cell_type": "code",
   "execution_count": 411,
   "metadata": {},
   "outputs": [
    {
     "name": "stderr",
     "output_type": "stream",
     "text": [
      "C:\\ProgramData\\Anaconda3\\lib\\site-packages\\ipykernel_launcher.py:28: RuntimeWarning: All-NaN axis encountered\n"
     ]
    }
   ],
   "source": [
    "hd = HammingDistance(['111', '111'])"
   ]
  },
  {
   "cell_type": "code",
   "execution_count": 412,
   "metadata": {},
   "outputs": [
    {
     "data": {
      "text/plain": [
       "-2147483648"
      ]
     },
     "execution_count": 412,
     "metadata": {},
     "output_type": "execute_result"
    }
   ],
   "source": [
    "hd.Dmin"
   ]
  },
  {
   "cell_type": "code",
   "execution_count": 413,
   "metadata": {},
   "outputs": [],
   "source": [
    "hd.get_min_distance(['10001', '01110'])"
   ]
  },
  {
   "cell_type": "code",
   "execution_count": 423,
   "metadata": {},
   "outputs": [],
   "source": [
    "he = HammingEncoder(data_bits=100)"
   ]
  },
  {
   "cell_type": "code",
   "execution_count": 424,
   "metadata": {},
   "outputs": [
    {
     "data": {
      "text/plain": [
       "7"
      ]
     },
     "execution_count": 424,
     "metadata": {},
     "output_type": "execute_result"
    }
   ],
   "source": [
    "he.redundant_bits"
   ]
  },
  {
   "cell_type": "code",
   "execution_count": 425,
   "metadata": {},
   "outputs": [
    {
     "name": "stdout",
     "output_type": "stream",
     "text": [
      "HammingBit(value =  , is_redundant = False)\n"
     ]
    }
   ],
   "source": [
    "print(he.encoding[3])"
   ]
  },
  {
   "cell_type": "code",
   "execution_count": 426,
   "metadata": {},
   "outputs": [
    {
     "data": {
      "text/plain": [
       "[1, 2, 4, 8, 16, 32, 64]"
      ]
     },
     "execution_count": 426,
     "metadata": {},
     "output_type": "execute_result"
    }
   ],
   "source": [
    "he._redundant_positions"
   ]
  },
  {
   "cell_type": "code",
   "execution_count": 427,
   "metadata": {},
   "outputs": [
    {
     "name": "stdout",
     "output_type": "stream",
     "text": [
      "                                                                                                                                                                                                                       -----                                                                                                                                                           -----                                                                           -----                                   -----               -----     ----------\n",
      "                                                                                                                                                                                                                       |   |                                                                                                                                                           |   |                                                                           |   |                                   |   |               |   |     |   ||   |\n",
      " ---  ---  ---  ---  ---  ---  ---  ---  ---  ---  ---  ---  ---  ---  ---  ---  ---  ---  ---  ---  ---  ---  ---  ---  ---  ---  ---  ---  ---  ---  ---  ---  ---  ---  ---  ---  ---  ---  ---  ---  ---  ---  --- |---| ---  ---  ---  ---  ---  ---  ---  ---  ---  ---  ---  ---  ---  ---  ---  ---  ---  ---  ---  ---  ---  ---  ---  ---  ---  ---  ---  ---  ---  ---  --- |---| ---  ---  ---  ---  ---  ---  ---  ---  ---  ---  ---  ---  ---  ---  --- |---| ---  ---  ---  ---  ---  ---  --- |---| ---  ---  --- |---| --- |---||---|\n",
      " 107  106  105  104  103  102  101  100   99   98   97   96   95   94   93   92   91   90   89   88   87   86   85   84   83   82   81   80   79   78   77   76   75   74   73   72   71   70   69   68   67   66   65 | 64|  63   62   61   60   59   58   57   56   55   54   53   52   51   50   49   48   47   46   45   44   43   42   41   40   39   38   37   36   35   34   33 | 32|  31   30   29   28   27   26   25   24   23   22   21   20   19   18   17 | 16|  15   14   13   12   11   10    9 |  8|   7    6    5 |  4|   3 |  2||  1|\n",
      "                                                                                                                                                                                                                       -----                                                                                                                                                           -----                                                                           -----                                   -----               -----     ----------\n"
     ]
    }
   ],
   "source": [
    "he.__print__()"
   ]
  },
  {
   "cell_type": "code",
   "execution_count": 428,
   "metadata": {},
   "outputs": [],
   "source": [
    "out = he.get_as_html()"
   ]
  },
  {
   "cell_type": "code",
   "execution_count": 429,
   "metadata": {},
   "outputs": [
    {
     "data": {
      "text/plain": [
       "IPython.core.display.HTML"
      ]
     },
     "execution_count": 429,
     "metadata": {},
     "output_type": "execute_result"
    }
   ],
   "source": [
    "type(out)"
   ]
  },
  {
   "cell_type": "code",
   "execution_count": 430,
   "metadata": {},
   "outputs": [
    {
     "data": {
      "text/html": [
       "<style>.nowrap{white-space:pre;font-family:monospace}</style><span class='nowrap' >                                                                                                                                                                                                                       -----                                                                                                                                                           -----                                                                           -----                                   -----               -----     ----------<br>                                                                                                                                                                                                                       |   |                                                                                                                                                           |   |                                                                           |   |                                   |   |               |   |     |   ||   |<br> ---  ---  ---  ---  ---  ---  ---  ---  ---  ---  ---  ---  ---  ---  ---  ---  ---  ---  ---  ---  ---  ---  ---  ---  ---  ---  ---  ---  ---  ---  ---  ---  ---  ---  ---  ---  ---  ---  ---  ---  ---  ---  --- |---| ---  ---  ---  ---  ---  ---  ---  ---  ---  ---  ---  ---  ---  ---  ---  ---  ---  ---  ---  ---  ---  ---  ---  ---  ---  ---  ---  ---  ---  ---  --- |---| ---  ---  ---  ---  ---  ---  ---  ---  ---  ---  ---  ---  ---  ---  --- |---| ---  ---  ---  ---  ---  ---  --- |---| ---  ---  --- |---| --- |---||---|<br> 107  106  105  104  103  102  101  100   99   98   97   96   95   94   93   92   91   90   89   88   87   86   85   84   83   82   81   80   79   78   77   76   75   74   73   72   71   70   69   68   67   66   65 | 64|  63   62   61   60   59   58   57   56   55   54   53   52   51   50   49   48   47   46   45   44   43   42   41   40   39   38   37   36   35   34   33 | 32|  31   30   29   28   27   26   25   24   23   22   21   20   19   18   17 | 16|  15   14   13   12   11   10    9 |  8|   7    6    5 |  4|   3 |  2||  1|<br>                                                                                                                                                                                                                       -----                                                                                                                                                           -----                                                                           -----                                   -----               -----     ----------</span>"
      ],
      "text/plain": [
       "<IPython.core.display.HTML object>"
      ]
     },
     "execution_count": 430,
     "metadata": {},
     "output_type": "execute_result"
    }
   ],
   "source": []
  },
  {
   "cell_type": "code",
   "execution_count": null,
   "metadata": {},
   "outputs": [],
   "source": []
  },
  {
   "cell_type": "code",
   "execution_count": null,
   "metadata": {},
   "outputs": [],
   "source": []
  },
  {
   "cell_type": "code",
   "execution_count": null,
   "metadata": {},
   "outputs": [],
   "source": []
  }
 ],
 "metadata": {
  "kernelspec": {
   "display_name": "Python 3",
   "language": "python",
   "name": "python3"
  },
  "language_info": {
   "codemirror_mode": {
    "name": "ipython",
    "version": 3
   },
   "file_extension": ".py",
   "mimetype": "text/x-python",
   "name": "python",
   "nbconvert_exporter": "python",
   "pygments_lexer": "ipython3",
   "version": "3.6.5"
  }
 },
 "nbformat": 4,
 "nbformat_minor": 2
}
