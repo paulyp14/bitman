{
 "cells": [
  {
   "cell_type": "code",
   "execution_count": 1,
   "metadata": {},
   "outputs": [],
   "source": [
    "import sys"
   ]
  },
  {
   "cell_type": "code",
   "execution_count": 2,
   "metadata": {},
   "outputs": [],
   "source": [
    "sys.path.append('C:\\\\Users\\\\paul\\\\repos\\\\bitman')"
   ]
  },
  {
   "cell_type": "code",
   "execution_count": 3,
   "metadata": {},
   "outputs": [],
   "source": [
    "import bitman"
   ]
  },
  {
   "cell_type": "code",
   "execution_count": 4,
   "metadata": {},
   "outputs": [],
   "source": [
    "from bitman.bit_representations.bit_repr import BitRepr\n",
    "from bitman.bit_representations.ones_complement import OnesComplement\n",
    "from bitman.bit_representations.twos_complement import TwosComplement"
   ]
  },
  {
   "cell_type": "code",
   "execution_count": 5,
   "metadata": {},
   "outputs": [],
   "source": [
    "bits = BitRepr('1001')"
   ]
  },
  {
   "cell_type": "code",
   "execution_count": 6,
   "metadata": {},
   "outputs": [],
   "source": [
    "b2 = exec(bits.__repr__())"
   ]
  },
  {
   "cell_type": "code",
   "execution_count": 7,
   "metadata": {},
   "outputs": [
    {
     "name": "stdout",
     "output_type": "stream",
     "text": [
      "\n",
      "        Class BitRepr:\n",
      "          bits      : 1001\n",
      "          base      : 2\n",
      "          length    : 4\n",
      "          magnitude : 9\n",
      "          fixed_len : False\n",
      "          max_len   : None\n",
      "        \n"
     ]
    }
   ],
   "source": [
    "bits._print_validate()"
   ]
  },
  {
   "cell_type": "code",
   "execution_count": 8,
   "metadata": {},
   "outputs": [],
   "source": [
    "fb = BitRepr('ffff', base=16)"
   ]
  },
  {
   "cell_type": "code",
   "execution_count": 9,
   "metadata": {},
   "outputs": [
    {
     "name": "stdout",
     "output_type": "stream",
     "text": [
      "\n",
      "        Class BitRepr:\n",
      "          bits      : ffff\n",
      "          base      : 16\n",
      "          length    : 4\n",
      "          magnitude : 65535\n",
      "          fixed_len : False\n",
      "          max_len   : None\n",
      "        \n"
     ]
    }
   ],
   "source": [
    "fb._print_validate()"
   ]
  },
  {
   "cell_type": "code",
   "execution_count": 10,
   "metadata": {},
   "outputs": [],
   "source": [
    "fb2 = BitRepr('1111', base=2, fixed_len=True)"
   ]
  },
  {
   "cell_type": "code",
   "execution_count": 11,
   "metadata": {},
   "outputs": [
    {
     "name": "stdout",
     "output_type": "stream",
     "text": [
      "\n",
      "        Class BitRepr:\n",
      "          bits      : 1111\n",
      "          base      : 2\n",
      "          length    : 4\n",
      "          magnitude : 15\n",
      "          fixed_len : True\n",
      "          max_len   : 4\n",
      "        \n"
     ]
    }
   ],
   "source": [
    "fb2._print_validate()"
   ]
  },
  {
   "cell_type": "code",
   "execution_count": 12,
   "metadata": {},
   "outputs": [],
   "source": [
    "fb3 = BitRepr('1111', fixed_len = True, max_len = 10)"
   ]
  },
  {
   "cell_type": "code",
   "execution_count": 13,
   "metadata": {},
   "outputs": [
    {
     "data": {
      "text/plain": [
       "BitRepr('0000001111', 2, True, 10)"
      ]
     },
     "execution_count": 13,
     "metadata": {},
     "output_type": "execute_result"
    }
   ],
   "source": [
    "fb3"
   ]
  },
  {
   "cell_type": "code",
   "execution_count": 14,
   "metadata": {},
   "outputs": [
    {
     "name": "stdout",
     "output_type": "stream",
     "text": [
      "\n",
      "        Class BitRepr:\n",
      "          bits      : 0000001111\n",
      "          base      : 2\n",
      "          length    : 10\n",
      "          magnitude : 15\n",
      "          fixed_len : True\n",
      "          max_len   : 10\n",
      "        \n"
     ]
    }
   ],
   "source": [
    "fb3._print_validate()"
   ]
  },
  {
   "cell_type": "code",
   "execution_count": 15,
   "metadata": {},
   "outputs": [
    {
     "name": "stdout",
     "output_type": "stream",
     "text": [
      "11111111100100111\n"
     ]
    }
   ],
   "source": [
    "oc = OnesComplement('111100100111', fixed_len=True, max_len=17)"
   ]
  },
  {
   "cell_type": "code",
   "execution_count": 16,
   "metadata": {},
   "outputs": [
    {
     "name": "stdout",
     "output_type": "stream",
     "text": [
      "\n",
      "        Class OnesComplement:\n",
      "          bits      : 11111111100100111\n",
      "          base      : 2\n",
      "          length    : 17\n",
      "          magnitude : -216\n",
      "          fixed_len : True\n",
      "          max_len   : 17\n",
      "          is_negative : True\n",
      "                \n"
     ]
    }
   ],
   "source": [
    "oc._print_validate()"
   ]
  },
  {
   "cell_type": "code",
   "execution_count": 17,
   "metadata": {},
   "outputs": [
    {
     "data": {
      "text/plain": [
       "216"
      ]
     },
     "execution_count": 17,
     "metadata": {},
     "output_type": "execute_result"
    }
   ],
   "source": [
    "bitman.bit_representations.bit_manipulation.convert_from_base_to_base10('11011000', 2)"
   ]
  },
  {
   "cell_type": "code",
   "execution_count": 18,
   "metadata": {},
   "outputs": [
    {
     "name": "stdout",
     "output_type": "stream",
     "text": [
      "111111100100111\n"
     ]
    }
   ],
   "source": [
    "tc = TwosComplement('111100100111', fixed_len=True, max_len=15)"
   ]
  },
  {
   "cell_type": "code",
   "execution_count": 19,
   "metadata": {},
   "outputs": [
    {
     "name": "stdout",
     "output_type": "stream",
     "text": [
      "\n",
      "        Class TwosComplement:\n",
      "          bits      : 111111100100111\n",
      "          base      : 2\n",
      "          length    : 15\n",
      "          magnitude : -217\n",
      "          fixed_len : True\n",
      "          max_len   : 15\n",
      "          is_negative : True\n",
      "                \n"
     ]
    }
   ],
   "source": [
    "tc._print_validate()"
   ]
  },
  {
   "cell_type": "code",
   "execution_count": null,
   "metadata": {},
   "outputs": [],
   "source": []
  }
 ],
 "metadata": {
  "kernelspec": {
   "display_name": "Python 3",
   "language": "python",
   "name": "python3"
  },
  "language_info": {
   "codemirror_mode": {
    "name": "ipython",
    "version": 3
   },
   "file_extension": ".py",
   "mimetype": "text/x-python",
   "name": "python",
   "nbconvert_exporter": "python",
   "pygments_lexer": "ipython3",
   "version": "3.6.5"
  }
 },
 "nbformat": 4,
 "nbformat_minor": 2
}
